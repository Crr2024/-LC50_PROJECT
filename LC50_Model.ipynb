{
 "cells": [
  {
   "cell_type": "code",
   "execution_count": 1,
   "id": "638bfecf",
   "metadata": {
    "scrolled": true
   },
   "outputs": [],
   "source": [
    "import pandas as pd\n",
    "import seaborn as sns \n",
    "import numpy as np\n",
    "import matplotlib.pyplot as plt"
   ]
  },
  {
   "cell_type": "code",
   "execution_count": 2,
   "id": "d976b263",
   "metadata": {
    "scrolled": true
   },
   "outputs": [],
   "source": [
    "import warnings\n",
    "warnings.filterwarnings('ignore')"
   ]
  },
  {
   "cell_type": "code",
   "execution_count": 3,
   "id": "97309812",
   "metadata": {
    "scrolled": true
   },
   "outputs": [
    {
     "data": {
      "text/html": [
       "<div>\n",
       "<style scoped>\n",
       "    .dataframe tbody tr th:only-of-type {\n",
       "        vertical-align: middle;\n",
       "    }\n",
       "\n",
       "    .dataframe tbody tr th {\n",
       "        vertical-align: top;\n",
       "    }\n",
       "\n",
       "    .dataframe thead th {\n",
       "        text-align: right;\n",
       "    }\n",
       "</style>\n",
       "<table border=\"1\" class=\"dataframe\">\n",
       "  <thead>\n",
       "    <tr style=\"text-align: right;\">\n",
       "      <th></th>\n",
       "      <th>CIC0</th>\n",
       "      <th>SM1_Dz(Z)</th>\n",
       "      <th>GATS1i</th>\n",
       "      <th>NdsCH</th>\n",
       "      <th>NdssC</th>\n",
       "      <th>MLOGP</th>\n",
       "      <th>LC50</th>\n",
       "    </tr>\n",
       "  </thead>\n",
       "  <tbody>\n",
       "    <tr>\n",
       "      <th>0</th>\n",
       "      <td>3.260</td>\n",
       "      <td>0.829</td>\n",
       "      <td>1.676</td>\n",
       "      <td>0</td>\n",
       "      <td>1</td>\n",
       "      <td>1.453</td>\n",
       "      <td>3.770</td>\n",
       "    </tr>\n",
       "    <tr>\n",
       "      <th>1</th>\n",
       "      <td>2.189</td>\n",
       "      <td>0.580</td>\n",
       "      <td>0.863</td>\n",
       "      <td>0</td>\n",
       "      <td>0</td>\n",
       "      <td>1.348</td>\n",
       "      <td>3.115</td>\n",
       "    </tr>\n",
       "    <tr>\n",
       "      <th>2</th>\n",
       "      <td>2.125</td>\n",
       "      <td>0.638</td>\n",
       "      <td>0.831</td>\n",
       "      <td>0</td>\n",
       "      <td>0</td>\n",
       "      <td>1.348</td>\n",
       "      <td>3.531</td>\n",
       "    </tr>\n",
       "    <tr>\n",
       "      <th>3</th>\n",
       "      <td>3.027</td>\n",
       "      <td>0.331</td>\n",
       "      <td>1.472</td>\n",
       "      <td>1</td>\n",
       "      <td>0</td>\n",
       "      <td>1.807</td>\n",
       "      <td>3.510</td>\n",
       "    </tr>\n",
       "    <tr>\n",
       "      <th>4</th>\n",
       "      <td>2.094</td>\n",
       "      <td>0.827</td>\n",
       "      <td>0.860</td>\n",
       "      <td>0</td>\n",
       "      <td>0</td>\n",
       "      <td>1.886</td>\n",
       "      <td>5.390</td>\n",
       "    </tr>\n",
       "    <tr>\n",
       "      <th>...</th>\n",
       "      <td>...</td>\n",
       "      <td>...</td>\n",
       "      <td>...</td>\n",
       "      <td>...</td>\n",
       "      <td>...</td>\n",
       "      <td>...</td>\n",
       "      <td>...</td>\n",
       "    </tr>\n",
       "    <tr>\n",
       "      <th>903</th>\n",
       "      <td>2.801</td>\n",
       "      <td>0.728</td>\n",
       "      <td>2.226</td>\n",
       "      <td>0</td>\n",
       "      <td>2</td>\n",
       "      <td>0.736</td>\n",
       "      <td>3.109</td>\n",
       "    </tr>\n",
       "    <tr>\n",
       "      <th>904</th>\n",
       "      <td>3.652</td>\n",
       "      <td>0.872</td>\n",
       "      <td>0.867</td>\n",
       "      <td>2</td>\n",
       "      <td>3</td>\n",
       "      <td>3.983</td>\n",
       "      <td>4.040</td>\n",
       "    </tr>\n",
       "    <tr>\n",
       "      <th>905</th>\n",
       "      <td>3.763</td>\n",
       "      <td>0.916</td>\n",
       "      <td>0.878</td>\n",
       "      <td>0</td>\n",
       "      <td>6</td>\n",
       "      <td>2.918</td>\n",
       "      <td>4.818</td>\n",
       "    </tr>\n",
       "    <tr>\n",
       "      <th>906</th>\n",
       "      <td>2.831</td>\n",
       "      <td>1.393</td>\n",
       "      <td>1.077</td>\n",
       "      <td>0</td>\n",
       "      <td>1</td>\n",
       "      <td>0.906</td>\n",
       "      <td>5.317</td>\n",
       "    </tr>\n",
       "    <tr>\n",
       "      <th>907</th>\n",
       "      <td>4.057</td>\n",
       "      <td>1.032</td>\n",
       "      <td>1.183</td>\n",
       "      <td>1</td>\n",
       "      <td>3</td>\n",
       "      <td>4.754</td>\n",
       "      <td>8.201</td>\n",
       "    </tr>\n",
       "  </tbody>\n",
       "</table>\n",
       "<p>908 rows × 7 columns</p>\n",
       "</div>"
      ],
      "text/plain": [
       "      CIC0  SM1_Dz(Z)  GATS1i  NdsCH  NdssC  MLOGP   LC50\n",
       "0    3.260      0.829   1.676      0      1  1.453  3.770\n",
       "1    2.189      0.580   0.863      0      0  1.348  3.115\n",
       "2    2.125      0.638   0.831      0      0  1.348  3.531\n",
       "3    3.027      0.331   1.472      1      0  1.807  3.510\n",
       "4    2.094      0.827   0.860      0      0  1.886  5.390\n",
       "..     ...        ...     ...    ...    ...    ...    ...\n",
       "903  2.801      0.728   2.226      0      2  0.736  3.109\n",
       "904  3.652      0.872   0.867      2      3  3.983  4.040\n",
       "905  3.763      0.916   0.878      0      6  2.918  4.818\n",
       "906  2.831      1.393   1.077      0      1  0.906  5.317\n",
       "907  4.057      1.032   1.183      1      3  4.754  8.201\n",
       "\n",
       "[908 rows x 7 columns]"
      ]
     },
     "execution_count": 3,
     "metadata": {},
     "output_type": "execute_result"
    }
   ],
   "source": [
    "df = pd.read_csv('qsar_fish_toxicity.csv')\n",
    "df"
   ]
  },
  {
   "cell_type": "code",
   "execution_count": 4,
   "id": "f15f6a5b",
   "metadata": {
    "scrolled": true
   },
   "outputs": [
    {
     "data": {
      "text/plain": [
       "CIC0         0\n",
       "SM1_Dz(Z)    0\n",
       "GATS1i       0\n",
       "NdsCH        0\n",
       "NdssC        0\n",
       "MLOGP        0\n",
       "LC50         0\n",
       "dtype: int64"
      ]
     },
     "execution_count": 4,
     "metadata": {},
     "output_type": "execute_result"
    }
   ],
   "source": [
    "df.isnull().sum()"
   ]
  },
  {
   "cell_type": "code",
   "execution_count": 5,
   "id": "e61c1f30",
   "metadata": {
    "scrolled": true
   },
   "outputs": [
    {
     "data": {
      "text/plain": [
       "CIC0         float64\n",
       "SM1_Dz(Z)    float64\n",
       "GATS1i       float64\n",
       "NdsCH          int64\n",
       "NdssC          int64\n",
       "MLOGP        float64\n",
       "LC50         float64\n",
       "dtype: object"
      ]
     },
     "execution_count": 5,
     "metadata": {},
     "output_type": "execute_result"
    }
   ],
   "source": [
    "df.dtypes"
   ]
  },
  {
   "cell_type": "code",
   "execution_count": 6,
   "id": "32386ebd",
   "metadata": {
    "scrolled": true
   },
   "outputs": [
    {
     "data": {
      "text/plain": [
       "CIC0         float64\n",
       "SM1_Dz(Z)    float64\n",
       "GATS1i       float64\n",
       "NdsCH          int64\n",
       "NdssC          int64\n",
       "MLOGP        float64\n",
       "LC50         float64\n",
       "dtype: object"
      ]
     },
     "execution_count": 6,
     "metadata": {},
     "output_type": "execute_result"
    }
   ],
   "source": [
    "df.dtypes"
   ]
  },
  {
   "cell_type": "code",
   "execution_count": 7,
   "id": "5a8a9ee4",
   "metadata": {
    "scrolled": true
   },
   "outputs": [
    {
     "data": {
      "text/plain": [
       "Index(['CIC0', 'SM1_Dz(Z)', 'GATS1i', 'NdsCH', 'NdssC', 'MLOGP', 'LC50'], dtype='object')"
      ]
     },
     "execution_count": 7,
     "metadata": {},
     "output_type": "execute_result"
    }
   ],
   "source": [
    "df.columns"
   ]
  },
  {
   "cell_type": "code",
   "execution_count": 8,
   "id": "d342ba79",
   "metadata": {
    "scrolled": true
   },
   "outputs": [
    {
     "data": {
      "text/plain": [
       "<bound method DataFrame.info of       CIC0  SM1_Dz(Z)  GATS1i  NdsCH  NdssC  MLOGP   LC50\n",
       "0    3.260      0.829   1.676      0      1  1.453  3.770\n",
       "1    2.189      0.580   0.863      0      0  1.348  3.115\n",
       "2    2.125      0.638   0.831      0      0  1.348  3.531\n",
       "3    3.027      0.331   1.472      1      0  1.807  3.510\n",
       "4    2.094      0.827   0.860      0      0  1.886  5.390\n",
       "..     ...        ...     ...    ...    ...    ...    ...\n",
       "903  2.801      0.728   2.226      0      2  0.736  3.109\n",
       "904  3.652      0.872   0.867      2      3  3.983  4.040\n",
       "905  3.763      0.916   0.878      0      6  2.918  4.818\n",
       "906  2.831      1.393   1.077      0      1  0.906  5.317\n",
       "907  4.057      1.032   1.183      1      3  4.754  8.201\n",
       "\n",
       "[908 rows x 7 columns]>"
      ]
     },
     "execution_count": 8,
     "metadata": {},
     "output_type": "execute_result"
    }
   ],
   "source": [
    "df.info"
   ]
  },
  {
   "cell_type": "code",
   "execution_count": 9,
   "id": "ac5a6d5d",
   "metadata": {
    "scrolled": true
   },
   "outputs": [
    {
     "data": {
      "text/plain": [
       "<bound method NDFrame.describe of       CIC0  SM1_Dz(Z)  GATS1i  NdsCH  NdssC  MLOGP   LC50\n",
       "0    3.260      0.829   1.676      0      1  1.453  3.770\n",
       "1    2.189      0.580   0.863      0      0  1.348  3.115\n",
       "2    2.125      0.638   0.831      0      0  1.348  3.531\n",
       "3    3.027      0.331   1.472      1      0  1.807  3.510\n",
       "4    2.094      0.827   0.860      0      0  1.886  5.390\n",
       "..     ...        ...     ...    ...    ...    ...    ...\n",
       "903  2.801      0.728   2.226      0      2  0.736  3.109\n",
       "904  3.652      0.872   0.867      2      3  3.983  4.040\n",
       "905  3.763      0.916   0.878      0      6  2.918  4.818\n",
       "906  2.831      1.393   1.077      0      1  0.906  5.317\n",
       "907  4.057      1.032   1.183      1      3  4.754  8.201\n",
       "\n",
       "[908 rows x 7 columns]>"
      ]
     },
     "execution_count": 9,
     "metadata": {},
     "output_type": "execute_result"
    }
   ],
   "source": [
    "df.describe"
   ]
  },
  {
   "cell_type": "code",
   "execution_count": 10,
   "id": "4fe2a1f4",
   "metadata": {
    "scrolled": true
   },
   "outputs": [],
   "source": [
    "df['NdsCH'] =df['NdsCH'].astype(float)\n",
    "df['NdssC'] =df['NdssC'].astype(float)"
   ]
  },
  {
   "cell_type": "code",
   "execution_count": 11,
   "id": "1ea97ba7",
   "metadata": {
    "scrolled": true
   },
   "outputs": [
    {
     "data": {
      "text/plain": [
       "CIC0         float64\n",
       "SM1_Dz(Z)    float64\n",
       "GATS1i       float64\n",
       "NdsCH        float64\n",
       "NdssC        float64\n",
       "MLOGP        float64\n",
       "LC50         float64\n",
       "dtype: object"
      ]
     },
     "execution_count": 11,
     "metadata": {},
     "output_type": "execute_result"
    }
   ],
   "source": [
    "df.dtypes"
   ]
  },
  {
   "cell_type": "code",
   "execution_count": 12,
   "id": "8df97398",
   "metadata": {
    "scrolled": true
   },
   "outputs": [],
   "source": [
    "corr = df.corr()"
   ]
  },
  {
   "cell_type": "code",
   "execution_count": 13,
   "id": "0c1964e0",
   "metadata": {
    "scrolled": true
   },
   "outputs": [
    {
     "data": {
      "text/plain": [
       "Index(['CIC0', 'SM1_Dz(Z)', 'GATS1i', 'NdsCH', 'NdssC', 'MLOGP', 'LC50'], dtype='object')"
      ]
     },
     "execution_count": 13,
     "metadata": {},
     "output_type": "execute_result"
    }
   ],
   "source": [
    "df.columns"
   ]
  },
  {
   "cell_type": "code",
   "execution_count": 14,
   "id": "eb22ba9a",
   "metadata": {
    "scrolled": true
   },
   "outputs": [
    {
     "data": {
      "image/png": "[encoded data removed]",
      "text/plain": [
       "<Figure size 432x288 with 2 Axes>"
      ]
     },
     "metadata": {
      "needs_background": "light"
     },
     "output_type": "display_data"
    }
   ],
   "source": [
    "heatmap = sns.heatmap(corr)"
   ]
  },
  {
   "cell_type": "code",
   "execution_count": 15,
   "id": "dac0be0b",
   "metadata": {
    "scrolled": true
   },
   "outputs": [],
   "source": [
    "X = df['NdssC'].value_counts().index\n",
    "Y = df['NdssC'].value_counts()"
   ]
  },
  {
   "cell_type": "code",
   "execution_count": 16,
   "id": "ea70e013",
   "metadata": {
    "scrolled": true
   },
   "outputs": [
    {
     "data": {
      "text/plain": [
       "<AxesSubplot:ylabel='NdssC'>"
      ]
     },
     "execution_count": 16,
     "metadata": {},
     "output_type": "execute_result"
    },
    {
     "data": {
      "image/png": "[encoded data removed]",
      "text/plain": [
       "<Figure size 432x288 with 1 Axes>"
      ]
     },
     "metadata": {
      "needs_background": "light"
     },
     "output_type": "display_data"
    }
   ],
   "source": [
    "sns.barplot(X,Y)"
   ]
  },
  {
   "cell_type": "code",
   "execution_count": 17,
   "id": "81bc7703",
   "metadata": {
    "scrolled": true
   },
   "outputs": [
    {
     "data": {
      "text/plain": [
       "Index(['CIC0', 'SM1_Dz(Z)', 'GATS1i', 'NdsCH', 'NdssC', 'MLOGP', 'LC50'], dtype='object')"
      ]
     },
     "execution_count": 17,
     "metadata": {},
     "output_type": "execute_result"
    }
   ],
   "source": [
    "df.columns"
   ]
  },
  {
   "cell_type": "code",
   "execution_count": 18,
   "id": "85af7aad",
   "metadata": {
    "scrolled": true
   },
   "outputs": [
    {
     "data": {
      "text/plain": [
       "<AxesSubplot:ylabel='SM1_Dz(Z)'>"
      ]
     },
     "execution_count": 18,
     "metadata": {},
     "output_type": "execute_result"
    },
    {
     "data": {
      "image/png": "[encoded data removed]",
      "text/plain": [
       "<Figure size 432x288 with 1 Axes>"
      ]
     },
     "metadata": {
      "needs_background": "light"
     },
     "output_type": "display_data"
    }
   ],
   "source": [
    "A = df['SM1_Dz(Z)'].value_counts().index\n",
    "B = df['SM1_Dz(Z)'].value_counts()\n",
    "sns.barplot(A,B)"
   ]
  },
  {
   "cell_type": "code",
   "execution_count": 19,
   "id": "93a14faf",
   "metadata": {
    "scrolled": true
   },
   "outputs": [],
   "source": [
    "# Most of them depend on one variable"
   ]
  },
  {
   "cell_type": "code",
   "execution_count": 20,
   "id": "f7289743",
   "metadata": {
    "scrolled": true
   },
   "outputs": [],
   "source": [
    "# BOXPLOT"
   ]
  },
  {
   "cell_type": "code",
   "execution_count": 21,
   "id": "ee30624c",
   "metadata": {
    "scrolled": true
   },
   "outputs": [
    {
     "data": {
      "text/html": [
       "<div>\n",
       "<style scoped>\n",
       "    .dataframe tbody tr th:only-of-type {\n",
       "        vertical-align: middle;\n",
       "    }\n",
       "\n",
       "    .dataframe tbody tr th {\n",
       "        vertical-align: top;\n",
       "    }\n",
       "\n",
       "    .dataframe thead th {\n",
       "        text-align: right;\n",
       "    }\n",
       "</style>\n",
       "<table border=\"1\" class=\"dataframe\">\n",
       "  <thead>\n",
       "    <tr style=\"text-align: right;\">\n",
       "      <th></th>\n",
       "      <th>CIC0</th>\n",
       "      <th>SM1_Dz(Z)</th>\n",
       "      <th>GATS1i</th>\n",
       "      <th>NdsCH</th>\n",
       "      <th>NdssC</th>\n",
       "      <th>MLOGP</th>\n",
       "      <th>LC50</th>\n",
       "    </tr>\n",
       "  </thead>\n",
       "  <tbody>\n",
       "    <tr>\n",
       "      <th>0</th>\n",
       "      <td>3.260</td>\n",
       "      <td>0.829</td>\n",
       "      <td>1.676</td>\n",
       "      <td>0.0</td>\n",
       "      <td>1.0</td>\n",
       "      <td>1.453</td>\n",
       "      <td>3.770</td>\n",
       "    </tr>\n",
       "    <tr>\n",
       "      <th>1</th>\n",
       "      <td>2.189</td>\n",
       "      <td>0.580</td>\n",
       "      <td>0.863</td>\n",
       "      <td>0.0</td>\n",
       "      <td>0.0</td>\n",
       "      <td>1.348</td>\n",
       "      <td>3.115</td>\n",
       "    </tr>\n",
       "    <tr>\n",
       "      <th>2</th>\n",
       "      <td>2.125</td>\n",
       "      <td>0.638</td>\n",
       "      <td>0.831</td>\n",
       "      <td>0.0</td>\n",
       "      <td>0.0</td>\n",
       "      <td>1.348</td>\n",
       "      <td>3.531</td>\n",
       "    </tr>\n",
       "    <tr>\n",
       "      <th>3</th>\n",
       "      <td>3.027</td>\n",
       "      <td>0.331</td>\n",
       "      <td>1.472</td>\n",
       "      <td>1.0</td>\n",
       "      <td>0.0</td>\n",
       "      <td>1.807</td>\n",
       "      <td>3.510</td>\n",
       "    </tr>\n",
       "    <tr>\n",
       "      <th>4</th>\n",
       "      <td>2.094</td>\n",
       "      <td>0.827</td>\n",
       "      <td>0.860</td>\n",
       "      <td>0.0</td>\n",
       "      <td>0.0</td>\n",
       "      <td>1.886</td>\n",
       "      <td>5.390</td>\n",
       "    </tr>\n",
       "    <tr>\n",
       "      <th>...</th>\n",
       "      <td>...</td>\n",
       "      <td>...</td>\n",
       "      <td>...</td>\n",
       "      <td>...</td>\n",
       "      <td>...</td>\n",
       "      <td>...</td>\n",
       "      <td>...</td>\n",
       "    </tr>\n",
       "    <tr>\n",
       "      <th>903</th>\n",
       "      <td>2.801</td>\n",
       "      <td>0.728</td>\n",
       "      <td>2.226</td>\n",
       "      <td>0.0</td>\n",
       "      <td>2.0</td>\n",
       "      <td>0.736</td>\n",
       "      <td>3.109</td>\n",
       "    </tr>\n",
       "    <tr>\n",
       "      <th>904</th>\n",
       "      <td>3.652</td>\n",
       "      <td>0.872</td>\n",
       "      <td>0.867</td>\n",
       "      <td>2.0</td>\n",
       "      <td>3.0</td>\n",
       "      <td>3.983</td>\n",
       "      <td>4.040</td>\n",
       "    </tr>\n",
       "    <tr>\n",
       "      <th>905</th>\n",
       "      <td>3.763</td>\n",
       "      <td>0.916</td>\n",
       "      <td>0.878</td>\n",
       "      <td>0.0</td>\n",
       "      <td>6.0</td>\n",
       "      <td>2.918</td>\n",
       "      <td>4.818</td>\n",
       "    </tr>\n",
       "    <tr>\n",
       "      <th>906</th>\n",
       "      <td>2.831</td>\n",
       "      <td>1.393</td>\n",
       "      <td>1.077</td>\n",
       "      <td>0.0</td>\n",
       "      <td>1.0</td>\n",
       "      <td>0.906</td>\n",
       "      <td>5.317</td>\n",
       "    </tr>\n",
       "    <tr>\n",
       "      <th>907</th>\n",
       "      <td>4.057</td>\n",
       "      <td>1.032</td>\n",
       "      <td>1.183</td>\n",
       "      <td>1.0</td>\n",
       "      <td>3.0</td>\n",
       "      <td>4.754</td>\n",
       "      <td>8.201</td>\n",
       "    </tr>\n",
       "  </tbody>\n",
       "</table>\n",
       "<p>908 rows × 7 columns</p>\n",
       "</div>"
      ],
      "text/plain": [
       "      CIC0  SM1_Dz(Z)  GATS1i  NdsCH  NdssC  MLOGP   LC50\n",
       "0    3.260      0.829   1.676    0.0    1.0  1.453  3.770\n",
       "1    2.189      0.580   0.863    0.0    0.0  1.348  3.115\n",
       "2    2.125      0.638   0.831    0.0    0.0  1.348  3.531\n",
       "3    3.027      0.331   1.472    1.0    0.0  1.807  3.510\n",
       "4    2.094      0.827   0.860    0.0    0.0  1.886  5.390\n",
       "..     ...        ...     ...    ...    ...    ...    ...\n",
       "903  2.801      0.728   2.226    0.0    2.0  0.736  3.109\n",
       "904  3.652      0.872   0.867    2.0    3.0  3.983  4.040\n",
       "905  3.763      0.916   0.878    0.0    6.0  2.918  4.818\n",
       "906  2.831      1.393   1.077    0.0    1.0  0.906  5.317\n",
       "907  4.057      1.032   1.183    1.0    3.0  4.754  8.201\n",
       "\n",
       "[908 rows x 7 columns]"
      ]
     },
     "execution_count": 21,
     "metadata": {},
     "output_type": "execute_result"
    }
   ],
   "source": [
    "df"
   ]
  },
  {
   "cell_type": "code",
   "execution_count": 22,
   "id": "f6f23d98",
   "metadata": {
    "scrolled": true
   },
   "outputs": [
    {
     "data": {
      "image/png": "[encoded data removed]",
      "text/plain": [
       "<Figure size 432x288 with 1 Axes>"
      ]
     },
     "metadata": {
      "needs_background": "light"
     },
     "output_type": "display_data"
    }
   ],
   "source": [
    "sns.boxplot(df['GATS1i'], data = df)\n",
    "q1, q3 = np.percentile(df['GATS1i'],[25,75])\n",
    "iqr = q3 - q1\n",
    "lower_bound = q1 -(1.5 * iqr) \n",
    "upper_bound = q3 +(1.5 * iqr) \n",
    "greater = df.loc[df['GATS1i'] > upper_bound]"
   ]
  },
  {
   "cell_type": "code",
   "execution_count": 23,
   "id": "6ae436e1",
   "metadata": {
    "scrolled": true
   },
   "outputs": [
    {
     "data": {
      "image/png": "[encoded data removed]",
      "text/plain": [
       "<Figure size 432x288 with 1 Axes>"
      ]
     },
     "metadata": {
      "needs_background": "light"
     },
     "output_type": "display_data"
    }
   ],
   "source": [
    "sns.boxplot(df['CIC0'], data = df)\n",
    "quartile_11, quartile_31 = np.percentile(df['CIC0'],[25,75])\n",
    "iqr1 = quartile_31 - quartile_11\n",
    "lower_bound1 = quartile_11 -(1.5 * iqr1) \n",
    "upper_bound1 = quartile_31 +(1.5 * iqr1) \n",
    "greater1 = df.loc[df['CIC0'] > upper_bound1]\n",
    "lower1 = df.loc[df['CIC0'] < lower_bound1]"
   ]
  },
  {
   "cell_type": "code",
   "execution_count": 24,
   "id": "84508a93",
   "metadata": {
    "scrolled": true
   },
   "outputs": [
    {
     "data": {
      "image/png": "[encoded data removed]",
      "text/plain": [
       "<Figure size 432x288 with 1 Axes>"
      ]
     },
     "metadata": {
      "needs_background": "light"
     },
     "output_type": "display_data"
    }
   ],
   "source": [
    "sns.boxplot(df['SM1_Dz(Z)'], data = df)\n",
    "quartile_12, quartile_32 = np.percentile(df['SM1_Dz(Z)'],[25,75])\n",
    "iqr2 = quartile_32 - quartile_12\n",
    "lower_bound2 = quartile_12 -(1.5 * iqr2) \n",
    "upper_bound2 = quartile_32 +(1.5 * iqr2) \n",
    "greater2 = df.loc[df['SM1_Dz(Z)'] > upper_bound2]\n",
    "lower2 = df.loc[df['SM1_Dz(Z)'] < lower_bound2]"
   ]
  },
  {
   "cell_type": "code",
   "execution_count": 25,
   "id": "f0a33d20",
   "metadata": {
    "scrolled": true
   },
   "outputs": [
    {
     "data": {
      "image/png": "[encoded data removed]",
      "text/plain": [
       "<Figure size 432x288 with 1 Axes>"
      ]
     },
     "metadata": {
      "needs_background": "light"
     },
     "output_type": "display_data"
    }
   ],
   "source": [
    "sns.boxplot(df['MLOGP'], data = df)\n",
    "quartile_13, quartile_33 = np.percentile(df['MLOGP'],[25,75])\n",
    "iqr3 = quartile_33 - quartile_13\n",
    "lower_bound3 = quartile_13 -(1.5 * iqr3) \n",
    "upper_bound3 = quartile_33 +(1.5 * iqr3) \n",
    "greater3 = df.loc[df['MLOGP'] > upper_bound3]\n",
    "lower3 = df.loc[df['MLOGP'] < lower_bound3]"
   ]
  },
  {
   "cell_type": "code",
   "execution_count": 26,
   "id": "e27e9485",
   "metadata": {},
   "outputs": [
    {
     "data": {
      "text/plain": [
       "(907, 7)"
      ]
     },
     "execution_count": 26,
     "metadata": {},
     "output_type": "execute_result"
    }
   ],
   "source": [
    "df.loc[df['MLOGP'] > upper_bound3]\n",
    "df = df.drop(index = 694)\n",
    "df.shape"
   ]
  },
  {
   "cell_type": "code",
   "execution_count": 27,
   "id": "2f2e65f7",
   "metadata": {
    "scrolled": true
   },
   "outputs": [],
   "source": [
    "# REMOVING OUTLIERS\n",
    "\n",
    "df.loc[df['GATS1i'] > upper_bound] = np.nan\n",
    "df.loc[df['CIC0'] > upper_bound1] = np.nan\n",
    "df.loc[df['CIC0'] < lower_bound1] = np.nan\n",
    "df.loc[df['SM1_Dz(Z)'] > upper_bound2] = np.nan\n",
    "df.loc[df['SM1_Dz(Z)'] < lower_bound2] = np.nan\n",
    "df.loc[df['MLOGP'] > upper_bound3] = np.nan\n",
    "df.loc[df['MLOGP'] < lower_bound3] = np.nan\n"
   ]
  },
  {
   "cell_type": "code",
   "execution_count": 28,
   "id": "e417fc9f",
   "metadata": {
    "scrolled": true
   },
   "outputs": [
    {
     "data": {
      "text/plain": [
       "CIC0         18\n",
       "SM1_Dz(Z)    18\n",
       "GATS1i       18\n",
       "NdsCH        18\n",
       "NdssC        18\n",
       "MLOGP        18\n",
       "LC50         18\n",
       "dtype: int64"
      ]
     },
     "execution_count": 28,
     "metadata": {},
     "output_type": "execute_result"
    }
   ],
   "source": [
    "df.isnull().sum()"
   ]
  },
  {
   "cell_type": "code",
   "execution_count": 29,
   "id": "9f477f8d",
   "metadata": {
    "scrolled": true
   },
   "outputs": [],
   "source": [
    "df.dropna(inplace = True)"
   ]
  },
  {
   "cell_type": "code",
   "execution_count": 30,
   "id": "3e5c4439",
   "metadata": {
    "scrolled": true
   },
   "outputs": [
    {
     "data": {
      "text/plain": [
       "CIC0         0\n",
       "SM1_Dz(Z)    0\n",
       "GATS1i       0\n",
       "NdsCH        0\n",
       "NdssC        0\n",
       "MLOGP        0\n",
       "LC50         0\n",
       "dtype: int64"
      ]
     },
     "execution_count": 30,
     "metadata": {},
     "output_type": "execute_result"
    }
   ],
   "source": [
    "df.isnull().sum()"
   ]
  },
  {
   "cell_type": "code",
   "execution_count": 31,
   "id": "193896d3",
   "metadata": {
    "scrolled": true
   },
   "outputs": [
    {
     "data": {
      "image/png": "[encoded data removed]",
      "text/plain": [
       "<Figure size 864x720 with 2 Axes>"
      ]
     },
     "metadata": {
      "needs_background": "light"
     },
     "output_type": "display_data"
    }
   ],
   "source": [
    "plt.figure(figsize = (12,10))\n",
    "heatmap = sns.heatmap(corr , cmap = 'BuPu')"
   ]
  },
  {
   "cell_type": "code",
   "execution_count": 32,
   "id": "2c7d998b",
   "metadata": {
    "scrolled": true
   },
   "outputs": [
    {
     "data": {
      "text/plain": [
       "(889, 7)"
      ]
     },
     "execution_count": 32,
     "metadata": {},
     "output_type": "execute_result"
    }
   ],
   "source": [
    "X = df.drop('LC50', axis = 1)\n",
    "Y = df['LC50']\n",
    "df.shape"
   ]
  },
  {
   "cell_type": "code",
   "execution_count": 33,
   "id": "2588334c",
   "metadata": {
    "scrolled": true
   },
   "outputs": [],
   "source": [
    "from sklearn import preprocessing"
   ]
  },
  {
   "cell_type": "code",
   "execution_count": 47,
   "id": "35f86fd0",
   "metadata": {
    "scrolled": true
   },
   "outputs": [
    {
     "name": "stdout",
     "output_type": "stream",
     "text": [
      "[[ 0.48476113  0.49261458  1.04509608 -0.38171227  0.58385258 -0.48791224]\n",
      " [-0.95834114 -0.09947781 -1.11493671 -0.38171227 -0.56958063 -0.56448048]\n",
      " [-1.04457694  0.03843929 -1.19995645 -0.38171227 -0.56958063 -0.56448048]\n",
      " ...\n",
      " [ 1.16252065  0.69949024 -1.07508371 -0.38171227  6.35101867  0.58039703]\n",
      " [-0.09328824  1.83373952 -0.54636719 -0.38171227  0.58385258 -0.88679631]\n",
      " [ 1.55866638  0.97532445 -0.2647393   1.25762208  2.89071902  1.91924741]]\n"
     ]
    }
   ],
   "source": [
    "from sklearn.preprocessing import StandardScaler\n",
    "scaler = StandardScaler()\n",
    "scaled_data=scaler.fit_transform(X)\n",
    "print(scaled_data)"
   ]
  },
  {
   "cell_type": "code",
   "execution_count": 35,
   "id": "533d1854",
   "metadata": {
    "scrolled": true
   },
   "outputs": [],
   "source": [
    "from sklearn.model_selection import train_test_split\n",
    "X_train ,X_test,Y_train ,Y_test = train_test_split(X,Y,random_state = 42, train_size = 0.75)"
   ]
  },
  {
   "cell_type": "code",
   "execution_count": 36,
   "id": "3dac2b6f",
   "metadata": {
    "scrolled": true
   },
   "outputs": [],
   "source": [
    "# from sklearn.preprocessing import MinMaxScaler\n",
    "# scaler = MinMaxScaler()\n",
    "# X_train = pd.DataFrame(scaler.fit_transform(X_train))\n",
    "# X_test = pd.DataFrame(scaler.fit_transform(X_test))\n",
    "# # Y_train = MinMaxScaler().fit_transform(np.array(Y_train).reshape(-1,1))\n",
    "# # Y_test= MinMaxScaler().fit_transform(np.array(Y_test).reshape(-1,1))\n",
    "\n",
    "# Standardisation = preprocessing.StandardScaler() \n",
    "\n",
    "# X_train = Standardisation.fit_transform(X_train)\n",
    "# X_test = Standardisation.fit_transform(X_test)\n",
    "# Y_train = Standardisation.fit_transform(np.array(Y_train).reshape(-1,1))\n",
    "# Y_test = Standardisation.fit_transform(np.array(Y_test).reshape(-1,1))"
   ]
  },
  {
   "cell_type": "code",
   "execution_count": 37,
   "id": "8a53fbe6",
   "metadata": {
    "scrolled": true
   },
   "outputs": [],
   "source": [
    "# from sklearn import utils\n",
    "\n",
    "# lab_enc = preprocessing.LabelEncoder()\n",
    "# # Y_train= lab_enc.fit_transform(X_train)\n",
    "# # Y_test = lab_enc.fit_transform(X_test)\n",
    "# Y_train= lab_enc.fit_transform(Y_train)\n",
    "# Y_test = lab_enc.fit_transform(Y_test)\n",
    "# # print(utils.multiclass.type_of_target(X_train_min_max.astype('float')))\n",
    "\n",
    "# # print(utils.multiclass.type_of_target(Y_train_min_max_encoded))\n"
   ]
  },
  {
   "cell_type": "code",
   "execution_count": 38,
   "id": "6d32f7cf",
   "metadata": {
    "scrolled": true
   },
   "outputs": [
    {
     "name": "stdout",
     "output_type": "stream",
     "text": [
      "The model performance for LinearRegression testing set\n",
      "--------------------------------------\n",
      "MSE is 0.776666363831023\n",
      "R2 score is 0.6440174321449139\n",
      "mae for the model 0.6494762382779252\n"
     ]
    }
   ],
   "source": [
    "from sklearn.linear_model import LinearRegression\n",
    "from sklearn.metrics import mean_squared_error\n",
    "from sklearn.metrics import r2_score\n",
    "from sklearn.metrics import mean_absolute_error\n",
    "from sklearn.model_selection import GridSearchCV\n",
    "\n",
    "lin_model = LinearRegression()\n",
    "lin_model.fit(X_train, Y_train)\n",
    "\n",
    "# model evaluation for testing set\n",
    "y_test_predict = lin_model.predict(X_test)\n",
    "mse = mean_squared_error(Y_test, y_test_predict)\n",
    "r2 = r2_score(Y_test, y_test_predict)\n",
    "mae = mean_absolute_error(Y_test, y_test_predict)\n",
    "\n",
    "print(\"The model performance for LinearRegression testing set\")\n",
    "print(\"--------------------------------------\")\n",
    "print('MSE is {}'.format(mse))\n",
    "print('R2 score is {}'.format(r2))\n",
    "print('mae for the model {}'.format(mae))\n"
   ]
  },
  {
   "cell_type": "code",
   "execution_count": 40,
   "id": "d51387e7",
   "metadata": {},
   "outputs": [],
   "source": [
    "\n",
    "# from sklearn.model_selection import GridSearchCV\n",
    "# grid = GridSearchCV(estimator=lin_model,param_grid=params,scoring='r2')\n",
    "# grid\n"
   ]
  },
  {
   "cell_type": "code",
   "execution_count": 41,
   "id": "16f14270",
   "metadata": {
    "scrolled": true
   },
   "outputs": [
    {
     "name": "stdout",
     "output_type": "stream",
     "text": [
      "The model performance for Random Forest Regressor testing set\n",
      "--------------------------------------\n",
      "MSE is 0.7322865420930621\n",
      "R2 score is 0.664358782870214\n",
      "mae for the model 0.6155365943050781\n"
     ]
    }
   ],
   "source": [
    "from sklearn.ensemble import RandomForestRegressor\n",
    "regressor_model = RandomForestRegressor(criterion = 'mse',min_samples_split = 2, min_samples_leaf = 1,n_estimators = 400, random_state = 0)\n",
    "regressor_model.fit(X_train, Y_train)\n",
    "\n",
    "y_test_predict_rfr = regressor_model.predict(X_test)\n",
    "mse = (mean_squared_error(Y_test, y_test_predict_rfr))\n",
    "r2 = r2_score(Y_test, y_test_predict_rfr)\n",
    "mae = mean_absolute_error(Y_test, y_test_predict_rfr)\n",
    "\n",
    "print(\"The model performance for Random Forest Regressor testing set\")\n",
    "print(\"--------------------------------------\")\n",
    "print('MSE is {}'.format(mse))\n",
    "print('R2 score is {}'.format(r2))\n",
    "print('mae for the model {}'.format(mae))"
   ]
  },
  {
   "cell_type": "code",
   "execution_count": 42,
   "id": "78c449c1",
   "metadata": {
    "scrolled": true
   },
   "outputs": [
    {
     "name": "stdout",
     "output_type": "stream",
     "text": [
      "The model performance for Decision Tree Forest Regressor testing set\n",
      "--------------------------------------\n",
      "MSE is 1.1772251777864973\n",
      "R2 score is 0.46042256849522367\n",
      "mae for the model 0.7840032137518683\n"
     ]
    }
   ],
   "source": [
    "from sklearn.tree import DecisionTreeRegressor\n",
    "dt_model = DecisionTreeRegressor(random_state = 1, max_depth=40)\n",
    "dt_model.fit(X_train, Y_train)\n",
    "\n",
    "Y_test_predict_dt = dt_model.predict(X_test)\n",
    "mse = (mean_squared_error(Y_test,Y_test_predict_dt))\n",
    "r2 = r2_score(Y_test, Y_test_predict_dt)\n",
    "mae = mean_absolute_error(Y_test, Y_test_predict_dt)\n",
    "\n",
    "print(\"The model performance for Decision Tree Forest Regressor testing set\")                                                                 \n",
    "print(\"--------------------------------------\")\n",
    "print('MSE is {}'.format(mse))\n",
    "print('R2 score is {}'.format(r2))\n",
    "print('mae for the model {}'.format(mae))                                                                                                                                                                                                                                                                                                                                                                                     "
   ]
  },
  {
   "cell_type": "code",
   "execution_count": 43,
   "id": "c49b9d78",
   "metadata": {},
   "outputs": [
    {
     "name": "stdout",
     "output_type": "stream",
     "text": [
      "The model performance for support vector Regressor testing set\n",
      "--------------------------------------\n",
      "MSE is 0.7717663069718351\n",
      "R2 score is 0.6462633576859216\n",
      "mae for the model 0.6221306842978536\n"
     ]
    }
   ],
   "source": [
    "\n",
    "from sklearn.svm import SVR\n",
    "SVR_regressor = SVR(kernel = 'rbf')\n",
    "SVR_regressor.fit(X_train, Y_train)\n",
    "\n",
    "test_predict_svr = SVR_regressor.predict(X_test)\n",
    "mse = (mean_squared_error(Y_test,test_predict_svr))\n",
    "r2 = r2_score(Y_test, test_predict_svr)\n",
    "mae = mean_absolute_error(Y_test, test_predict_svr)\n",
    "\n",
    "print(\"The model performance for support vector Regressor testing set\")                                                                 \n",
    "print(\"--------------------------------------\")\n",
    "print('MSE is {}'.format(mse))\n",
    "print('R2 score is {}'.format(r2))\n",
    "print('mae for the model {}'.format(mae))  "
   ]
  },
  {
   "cell_type": "code",
   "execution_count": 44,
   "id": "6353febd",
   "metadata": {},
   "outputs": [
    {
     "data": {
      "text/plain": [
       "0.664358782870214"
      ]
     },
     "execution_count": 44,
     "metadata": {},
     "output_type": "execute_result"
    }
   ],
   "source": [
    "from sklearn.metrics import r2_score\n",
    "r2_score(Y_test,y_test_predict_rfr)"
   ]
  },
  {
   "cell_type": "code",
   "execution_count": 45,
   "id": "79c7a3fc",
   "metadata": {},
   "outputs": [
    {
     "name": "stdout",
     "output_type": "stream",
     "text": [
      "The model performance for lin model Regressor testing set\n",
      "--------------------------------------\n",
      "MSE is 2.2077149870802\n",
      "R2 score is -0.011899171629319305\n",
      "mae for the model 1.140338450558181\n"
     ]
    }
   ],
   "source": [
    "\n",
    "from sklearn import linear_model\n",
    "lasso_reg = linear_model.Lasso(alpha=500,max_iter=500,tol=0.925)\n",
    "lasso_reg.fit(X_train,Y_train)\n",
    "\n",
    "lasso_reg_pred = lasso_reg.predict(X_test)\n",
    "mse = (mean_squared_error(Y_test,lasso_reg_pred))\n",
    "r2 = r2_score(Y_test, lasso_reg_pred)\n",
    "mae = mean_absolute_error(Y_test, lasso_reg_pred)\n",
    "\n",
    "print(\"The model performance for lin model Regressor testing set\")                                                                 \n",
    "print(\"--------------------------------------\")\n",
    "print('MSE is {}'.format(mse))\n",
    "print('R2 score is {}'.format(r2))\n",
    "print('mae for the model {}'.format(mae))  "
   ]
  },
  {
   "cell_type": "code",
   "execution_count": 46,
   "id": "51904140",
   "metadata": {},
   "outputs": [],
   "source": [
    "import pickle\n",
    "pickle.dump(regressor_model, open('LC50_model.pkl','wb'))"
   ]
  },
  {
   "cell_type": "code",
   "execution_count": null,
   "id": "04907444",
   "metadata": {},
   "outputs": [
    {
     "data": {
      "text/html": [
       "<div>\n",
       "<style scoped>\n",
       "    .dataframe tbody tr th:only-of-type {\n",
       "        vertical-align: middle;\n",
       "    }\n",
       "\n",
       "    .dataframe tbody tr th {\n",
       "        vertical-align: top;\n",
       "    }\n",
       "\n",
       "    .dataframe thead th {\n",
       "        text-align: right;\n",
       "    }\n",
       "</style>\n",
       "<table border=\"1\" class=\"dataframe\">\n",
       "  <thead>\n",
       "    <tr style=\"text-align: right;\">\n",
       "      <th></th>\n",
       "      <th>CIC0</th>\n",
       "      <th>SM1_Dz(Z)</th>\n",
       "      <th>GATS1i</th>\n",
       "      <th>NdsCH</th>\n",
       "      <th>NdssC</th>\n",
       "      <th>MLOGP</th>\n",
       "      <th>LC50</th>\n",
       "    </tr>\n",
       "  </thead>\n",
       "  <tbody>\n",
       "    <tr>\n",
       "      <th>0</th>\n",
       "      <td>3.260</td>\n",
       "      <td>0.829</td>\n",
       "      <td>1.676</td>\n",
       "      <td>0.0</td>\n",
       "      <td>1.0</td>\n",
       "      <td>1.453</td>\n",
       "      <td>3.770</td>\n",
       "    </tr>\n",
       "    <tr>\n",
       "      <th>1</th>\n",
       "      <td>2.189</td>\n",
       "      <td>0.580</td>\n",
       "      <td>0.863</td>\n",
       "      <td>0.0</td>\n",
       "      <td>0.0</td>\n",
       "      <td>1.348</td>\n",
       "      <td>3.115</td>\n",
       "    </tr>\n",
       "    <tr>\n",
       "      <th>2</th>\n",
       "      <td>2.125</td>\n",
       "      <td>0.638</td>\n",
       "      <td>0.831</td>\n",
       "      <td>0.0</td>\n",
       "      <td>0.0</td>\n",
       "      <td>1.348</td>\n",
       "      <td>3.531</td>\n",
       "    </tr>\n",
       "    <tr>\n",
       "      <th>3</th>\n",
       "      <td>3.027</td>\n",
       "      <td>0.331</td>\n",
       "      <td>1.472</td>\n",
       "      <td>1.0</td>\n",
       "      <td>0.0</td>\n",
       "      <td>1.807</td>\n",
       "      <td>3.510</td>\n",
       "    </tr>\n",
       "    <tr>\n",
       "      <th>4</th>\n",
       "      <td>2.094</td>\n",
       "      <td>0.827</td>\n",
       "      <td>0.860</td>\n",
       "      <td>0.0</td>\n",
       "      <td>0.0</td>\n",
       "      <td>1.886</td>\n",
       "      <td>5.390</td>\n",
       "    </tr>\n",
       "    <tr>\n",
       "      <th>...</th>\n",
       "      <td>...</td>\n",
       "      <td>...</td>\n",
       "      <td>...</td>\n",
       "      <td>...</td>\n",
       "      <td>...</td>\n",
       "      <td>...</td>\n",
       "      <td>...</td>\n",
       "    </tr>\n",
       "    <tr>\n",
       "      <th>903</th>\n",
       "      <td>2.801</td>\n",
       "      <td>0.728</td>\n",
       "      <td>2.226</td>\n",
       "      <td>0.0</td>\n",
       "      <td>2.0</td>\n",
       "      <td>0.736</td>\n",
       "      <td>3.109</td>\n",
       "    </tr>\n",
       "    <tr>\n",
       "      <th>904</th>\n",
       "      <td>3.652</td>\n",
       "      <td>0.872</td>\n",
       "      <td>0.867</td>\n",
       "      <td>2.0</td>\n",
       "      <td>3.0</td>\n",
       "      <td>3.983</td>\n",
       "      <td>4.040</td>\n",
       "    </tr>\n",
       "    <tr>\n",
       "      <th>905</th>\n",
       "      <td>3.763</td>\n",
       "      <td>0.916</td>\n",
       "      <td>0.878</td>\n",
       "      <td>0.0</td>\n",
       "      <td>6.0</td>\n",
       "      <td>2.918</td>\n",
       "      <td>4.818</td>\n",
       "    </tr>\n",
       "    <tr>\n",
       "      <th>906</th>\n",
       "      <td>2.831</td>\n",
       "      <td>1.393</td>\n",
       "      <td>1.077</td>\n",
       "      <td>0.0</td>\n",
       "      <td>1.0</td>\n",
       "      <td>0.906</td>\n",
       "      <td>5.317</td>\n",
       "    </tr>\n",
       "    <tr>\n",
       "      <th>907</th>\n",
       "      <td>4.057</td>\n",
       "      <td>1.032</td>\n",
       "      <td>1.183</td>\n",
       "      <td>1.0</td>\n",
       "      <td>3.0</td>\n",
       "      <td>4.754</td>\n",
       "      <td>8.201</td>\n",
       "    </tr>\n",
       "  </tbody>\n",
       "</table>\n",
       "<p>889 rows × 7 columns</p>\n",
       "</div>"
      ],
      "text/plain": [
       "      CIC0  SM1_Dz(Z)  GATS1i  NdsCH  NdssC  MLOGP   LC50\n",
       "0    3.260      0.829   1.676    0.0    1.0  1.453  3.770\n",
       "1    2.189      0.580   0.863    0.0    0.0  1.348  3.115\n",
       "2    2.125      0.638   0.831    0.0    0.0  1.348  3.531\n",
       "3    3.027      0.331   1.472    1.0    0.0  1.807  3.510\n",
       "4    2.094      0.827   0.860    0.0    0.0  1.886  5.390\n",
       "..     ...        ...     ...    ...    ...    ...    ...\n",
       "903  2.801      0.728   2.226    0.0    2.0  0.736  3.109\n",
       "904  3.652      0.872   0.867    2.0    3.0  3.983  4.040\n",
       "905  3.763      0.916   0.878    0.0    6.0  2.918  4.818\n",
       "906  2.831      1.393   1.077    0.0    1.0  0.906  5.317\n",
       "907  4.057      1.032   1.183    1.0    3.0  4.754  8.201\n",
       "\n",
       "[889 rows x 7 columns]"
      ]
     },
     "execution_count": 685,
     "metadata": {},
     "output_type": "execute_result"
    }
   ],
   "source": []
  }
 ],
 "metadata": {
  "kernelspec": {
   "display_name": "Python 3.9.12 ('base')",
   "language": "python",
   "name": "python3"
  },
  "language_info": {
   "codemirror_mode": {
    "name": "ipython",
    "version": 3
   },
   "file_extension": ".py",
   "mimetype": "text/x-python",
   "name": "python",
   "nbconvert_exporter": "python",
   "pygments_lexer": "ipython3",
   "version": "3.9.12"
  },
  "vscode": {
   "interpreter": {
    "hash": "43024848e79109f2f7c964e78f04196632cca9bb81068f1e1a0d6105a2a5b4c1"
   }
  }
 },
 "nbformat": 4,
 "nbformat_minor": 5
}
